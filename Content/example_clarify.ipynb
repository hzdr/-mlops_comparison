{
 "cells": [
  {
   "source": [
    "Notebook that explores some specific behavior from the used example\n",
    "See: https://www.mlflow.org/docs/latest/tutorials-and-examples/tutorial.html"
   ],
   "cell_type": "markdown",
   "metadata": {}
  },
  {
   "cell_type": "code",
   "execution_count": null,
   "id": "united-alcohol",
   "metadata": {},
   "outputs": [],
   "source": [
    "%load_ext autoreload\n",
    "%autoreload 2"
   ]
  },
  {
   "cell_type": "code",
   "execution_count": null,
   "id": "handled-chassis",
   "metadata": {},
   "outputs": [],
   "source": [
    "from sklearn.linear_model import ElasticNet, LogisticRegression, LinearRegression\n",
    "from sklearn.model_selection import train_test_split"
   ]
  },
  {
   "cell_type": "code",
   "execution_count": null,
   "id": "adjustable-bosnia",
   "metadata": {
    "lines_to_next_cell": 2
   },
   "outputs": [],
   "source": [
    "import pandas as pd\n",
    "import numpy as np"
   ]
  },
  {
   "cell_type": "code",
   "execution_count": null,
   "id": "superb-diana",
   "metadata": {},
   "outputs": [],
   "source": [
    "df = pd.read_csv(\"src_dvc-example_wine-quality.csv\")"
   ]
  },
  {
   "cell_type": "markdown",
   "id": "regional-claim",
   "metadata": {},
   "source": [
    "train and test are still DataFrame"
   ]
  },
  {
   "cell_type": "code",
   "execution_count": null,
   "id": "composed-membership",
   "metadata": {
    "lines_to_next_cell": 2
   },
   "outputs": [],
   "source": [
    "train, test = train_test_split(df)"
   ]
  },
  {
   "cell_type": "markdown",
   "id": "answering-pregnancy",
   "metadata": {},
   "source": [
    "Cool: sklearn can handle DataFrames transparently, and even numpy.dot() can\n",
    "(!!), but below we extract the numpy arrays (foo.values) to make life a bit\n",
    "easier"
   ]
  },
  {
   "cell_type": "code",
   "execution_count": null,
   "id": "artistic-atmosphere",
   "metadata": {},
   "outputs": [],
   "source": [
    "X_train = train.drop(\"quality\", axis=1).values\n",
    "X_test = test.drop(\"quality\", axis=1).values\n",
    "y_train = train[\"quality\"].values\n",
    "y_test = test[\"quality\"].values"
   ]
  },
  {
   "cell_type": "code",
   "execution_count": null,
   "id": "suspended-bulletin",
   "metadata": {},
   "outputs": [],
   "source": [
    "model = LinearRegression().fit(X_train, y_train)"
   ]
  },
  {
   "cell_type": "markdown",
   "id": "posted-advocate",
   "metadata": {},
   "source": [
    "$\\hat{y} = w_0 + X w$"
   ]
  },
  {
   "cell_type": "code",
   "execution_count": null,
   "id": "found-jonathan",
   "metadata": {},
   "outputs": [],
   "source": [
    "y_pred = model.predict(X_train)\n",
    "print(y_pred)"
   ]
  },
  {
   "cell_type": "markdown",
   "id": "olympic-assault",
   "metadata": {},
   "source": [
    "sanity check"
   ]
  },
  {
   "cell_type": "code",
   "execution_count": null,
   "id": "understood-timeline",
   "metadata": {},
   "outputs": [],
   "source": [
    "y_pred.shape"
   ]
  },
  {
   "cell_type": "markdown",
   "id": "young-orange",
   "metadata": {},
   "source": [
    "$w$"
   ]
  },
  {
   "cell_type": "code",
   "execution_count": null,
   "id": "rotary-cornell",
   "metadata": {},
   "outputs": [],
   "source": [
    "w = model.coef_\n",
    "print(w)"
   ]
  },
  {
   "cell_type": "markdown",
   "id": "devoted-module",
   "metadata": {},
   "source": [
    "$w_0$"
   ]
  },
  {
   "cell_type": "code",
   "execution_count": null,
   "id": "mineral-nerve",
   "metadata": {},
   "outputs": [],
   "source": [
    "w0 = model.intercept_\n",
    "print(w0)"
   ]
  },
  {
   "cell_type": "markdown",
   "id": "discrete-consistency",
   "metadata": {},
   "source": [
    "Difference $\\hat{y} - (w_0 + X w)$ should be zero (up to numerical noise)"
   ]
  },
  {
   "cell_type": "code",
   "execution_count": null,
   "id": "tested-sharp",
   "metadata": {},
   "outputs": [],
   "source": [
    "d = y_pred - (w0 + np.dot(X_train, w))\n",
    "print(d)"
   ]
  },
  {
   "cell_type": "code",
   "execution_count": null,
   "id": "appropriate-mission",
   "metadata": {},
   "outputs": [],
   "source": [
    "# print(np.linalg.norm(d))\n",
    "print(np.sqrt(np.dot(d,d)))"
   ]
  }
 ],
 "metadata": {
  "jupytext": {
   "cell_metadata_filter": "-all",
   "main_language": "python",
   "notebook_metadata_filter": "-all"
  }
 },
 "nbformat": 4,
 "nbformat_minor": 5
}